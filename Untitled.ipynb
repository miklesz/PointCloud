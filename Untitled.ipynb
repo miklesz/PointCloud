{
 "cells": [
  {
   "cell_type": "markdown",
   "id": "8836ef42",
   "metadata": {
    "pycharm": {
     "name": "#%% md\n"
    }
   },
   "source": [
    "Wpisz następujący kod źródłowy Pythona:"
   ]
  },
  {
   "cell_type": "code",
   "execution_count": 1,
   "id": "ac48800c",
   "metadata": {
    "pycharm": {
     "name": "#%%\n"
    }
   },
   "outputs": [
    {
     "name": "stderr",
     "output_type": "stream",
     "text": [
      "Known pipe types:\n",
      "  CocoaGraphicsPipe\n",
      "(all display modules loaded.)\n"
     ]
    },
    {
     "ename": "SystemExit",
     "evalue": "",
     "output_type": "error",
     "traceback": [
      "An exception has occurred, use %tb to see the full traceback.\n",
      "\u001B[0;31mSystemExit\u001B[0m\n"
     ]
    },
    {
     "name": "stderr",
     "output_type": "stream",
     "text": [
      "/Users/miklesz/PycharmProjects/PointCloud/venv/lib/python3.9/site-packages/IPython/core/interactiveshell.py:3406: UserWarning: To exit: use 'exit', 'quit', or Ctrl-D.\n",
      "  warn(\"To exit: use 'exit', 'quit', or Ctrl-D.\", stacklevel=1)\n"
     ]
    }
   ],
   "source": [
    "# del MyApp\n",
    "# del app\n",
    "# del builtins.base\n",
    "# del ShowBase\n",
    "# %reset -sf\n",
    "# reset\n",
    "# globals().clear()\n",
    "# import gc\n",
    "# gc.collect()\n",
    "# hasattr(builtins, 'base')\n",
    "# globals()\n",
    "\n",
    "from direct.showbase.ShowBase import ShowBase\n",
    "\n",
    "base = ShowBase()\n",
    "\n",
    "base.run()\n",
    "\n",
    "base.destroy()"
   ]
  },
  {
   "cell_type": "markdown",
   "id": "24071476",
   "metadata": {
    "pycharm": {
     "name": "#%% md\n"
    }
   },
   "source": [
    "Tutaj uczyniliśmy naszą główną klasę dziedziczeniem z `ShowBase`. Ta klasa ładuje większość innych modułów Panda3D i powoduje pojawienie się okna 3D. Metoda `run()` zawiera główną pętlę Panda3D. Renderuje klatkę, obsługuje zadania w tle, a następnie powtarza. Normalnie niczego nie zwraca, więc musi być wywołana tylko raz i musi być ostatnią linią w skrypcie. W tym konkretnym przykładzie nie będzie nic do renderowania, więc powinniście spodziewać się okna zawierającego pusty szary obszar."
   ]
  },
  {
   "cell_type": "code",
   "execution_count": null,
   "id": "3a1617b7",
   "metadata": {
    "pycharm": {
     "name": "#%%\n"
    }
   },
   "outputs": [],
   "source": []
  }
 ],
 "metadata": {
  "kernelspec": {
   "display_name": "Python 3 (ipykernel)",
   "language": "python",
   "name": "python3"
  },
  "language_info": {
   "codemirror_mode": {
    "name": "ipython",
    "version": 3
   },
   "file_extension": ".py",
   "mimetype": "text/x-python",
   "name": "python",
   "nbconvert_exporter": "python",
   "pygments_lexer": "ipython3",
   "version": "3.10.4"
  }
 },
 "nbformat": 4,
 "nbformat_minor": 5
}